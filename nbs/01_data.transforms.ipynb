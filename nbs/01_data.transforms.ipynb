{
 "cells": [
  {
   "cell_type": "code",
   "execution_count": null,
   "metadata": {},
   "outputs": [],
   "source": [
    "# default_exp data.transforms"
   ]
  },
  {
   "cell_type": "code",
   "execution_count": null,
   "metadata": {},
   "outputs": [],
   "source": [
    "# hide\n",
    "%load_ext autoreload\n",
    "%autoreload 2\n",
    "%matplotlib inline"
   ]
  },
  {
   "cell_type": "markdown",
   "metadata": {},
   "source": [
    "# Data Transforms\n",
    "\n",
    "> API details. @Nathan"
   ]
  },
  {
   "cell_type": "code",
   "execution_count": null,
   "metadata": {},
   "outputs": [],
   "source": [
    "# export\n",
    "import re\n",
    "\n",
    "import pandas as pd\n",
    "\n",
    "from random import shuffle\n",
    "from typing import Callable, Optional"
   ]
  },
  {
   "cell_type": "markdown",
   "metadata": {},
   "source": [
    "## Semantic Preserving"
   ]
  },
  {
   "cell_type": "code",
   "execution_count": null,
   "metadata": {},
   "outputs": [],
   "source": [
    "# export\n",
    "def java_comment_remover(mthd: str) -> str:\n",
    "    \"\"\"\n",
    "    Remove all comments from a given java method. Code from https://stackoverflow.com/a/241506/5768407.\n",
    "\n",
    "    :param mthd: the method to have its comments removed\n",
    "    :returns: returns the method with its comments removed\n",
    "    \"\"\"\n",
    "\n",
    "    def replacer(match):\n",
    "        s = match.group(0)\n",
    "        if s.startswith(\"/\"):\n",
    "            return \" \"  # note: a space and not an empty string\n",
    "        else:\n",
    "            return s\n",
    "\n",
    "    pattern = re.compile(\n",
    "        r'//.*?$|</>\\*.*?\\*/|\\'(?:\\\\.|[^\\\\\\'])*\\'|\"(?:\\\\.|[^\\\\\"])*\"',\n",
    "        re.DOTALL | re.MULTILINE,\n",
    "    )\n",
    "    return re.sub(pattern, replacer, mthd)"
   ]
  },
  {
   "cell_type": "markdown",
   "metadata": {},
   "source": [
    "## Non-Semantic Preserving"
   ]
  },
  {
   "cell_type": "code",
   "execution_count": null,
   "metadata": {},
   "outputs": [],
   "source": [
    "# export\n",
    "def line_randomizer(mthd: str) -> str:\n",
    "    \"\"\"\n",
    "    Randomize the lines in a given method.\n",
    "\n",
    "    :param mthd: the method to have its lines randomized\n",
    "    :returns: returns the method with its lines randomized\n",
    "    \"\"\"\n",
    "    mthd = mthd.split(\"\\n\")\n",
    "    shuffle(mthd)\n",
    "\n",
    "    return \"\\n\".join(mthd)\n",
    "\n",
    "\n",
    "def code_token_randomizer(mthd: str) -> str:\n",
    "    \"\"\"\n",
    "    Randomize the tokens in a given method.\n",
    "\n",
    "    :param mthd: the method to have its code tokens randomized\n",
    "    :returns: returns the method with its code tokens randomized\n",
    "    \"\"\"\n",
    "    mthd = mthd.split(\" \")\n",
    "    shuffle(mthd)\n",
    "\n",
    "    return \" \".join(mthd)"
   ]
  },
  {
   "cell_type": "code",
   "execution_count": null,
   "metadata": {},
   "outputs": [],
   "source": [
    "# hide\n",
    "\n",
    "# From: https://www.geeksforgeeks.org/methods-in-java/\n",
    "df_fake = pd.DataFrame(\n",
    "    [\n",
    "        \"\"\"public int addTwoInt(int a, int b){ \n",
    "          \n",
    "        // adding two integer value. \n",
    "        sum = a + b; \n",
    "          \n",
    "        //returning summation of two values. \n",
    "        return sum;  \n",
    "    }\"\"\"\n",
    "    ],\n",
    "    columns=[\"code\"],\n",
    ")\n",
    "df_fake"
   ]
  },
  {
   "cell_type": "code",
   "execution_count": null,
   "metadata": {},
   "outputs": [],
   "source": [
    "# export\n",
    "def transform_df(\n",
    "    df: pd.DataFrame, transform: Callable, n: Optional[int] = None\n",
    ") -> pd.DataFrame:\n",
    "    \"\"\"\n",
    "    Transform the given pandas dataframe using the given transformation.\n",
    "\n",
    "    :param df: the dataframe containing each method to be transformed\n",
    "    :param transform: the transformation that will be applied to each method in the dataframe\n",
    "    :param n: the number of methods to evaluate. If none, the entire dataframe will be used\n",
    "    :returns: returns a modified dataframe with the methods transformed\n",
    "    \"\"\"\n",
    "    if n is None:\n",
    "        n = len(df)\n",
    "\n",
    "    df = df.iloc[:n].copy()\n",
    "    df.code = df.code.apply(transform)\n",
    "\n",
    "    return df"
   ]
  },
  {
   "cell_type": "code",
   "execution_count": null,
   "metadata": {},
   "outputs": [],
   "source": [
    "NO_CMT_MTHD = \"\"\"public int addTwoInt(int a, int b){ \n",
    "          \n",
    "         \n",
    "        sum = a + b; \n",
    "          \n",
    "         \n",
    "        return sum;  \n",
    "    }\"\"\"\n",
    "\n",
    "df_no_cmt = transform_df(df_fake, java_comment_remover)\n",
    "\n",
    "assert NO_CMT_MTHD == df_no_cmt.code.values[0]"
   ]
  },
  {
   "cell_type": "code",
   "execution_count": null,
   "metadata": {},
   "outputs": [],
   "source": [
    "import random\n",
    "\n",
    "NO_RND_LINES_MTHD = \"\"\"          \n",
    "        return sum;  \n",
    "        //returning summation of two values. \n",
    "          \n",
    "    }\n",
    "public int addTwoInt(int a, int b){ \n",
    "        // adding two integer value. \n",
    "        sum = a + b; \"\"\"\n",
    "\n",
    "random.seed(4)\n",
    "df_rnd_lines = transform_df(df_fake, line_randomizer)\n",
    "\n",
    "assert NO_RND_LINES_MTHD == df_rnd_lines.code.values[0]"
   ]
  },
  {
   "cell_type": "code",
   "execution_count": null,
   "metadata": {},
   "outputs": [],
   "source": [
    "NO_RND_TOKS_MTHD = \"\"\" values.   a, two return  adding     \n",
    " int     \n",
    " integer    \n",
    "     two   public   of } a sum;   //   b){  \n",
    " +       //returning  b;  int  \n",
    " \n",
    " \n",
    "     value.  sum   addTwoInt(int    summation   = \"\"\"\n",
    "\n",
    "random.seed(4)\n",
    "df_rnd_toks = transform_df(df_fake, code_token_randomizer)\n",
    "\n",
    "assert NO_RND_TOKS_MTHD == df_rnd_toks.code.values[0]"
   ]
  },
  {
   "cell_type": "code",
   "execution_count": null,
   "metadata": {},
   "outputs": [],
   "source": [
    "# hide\n",
    "from nbdev.export import notebook2script\n",
    "\n",
    "notebook2script()"
   ]
  }
 ],
 "metadata": {
  "kernelspec": {
   "display_name": "Python 3",
   "language": "python",
   "name": "python3"
  }
 },
 "nbformat": 4,
 "nbformat_minor": 4
}
