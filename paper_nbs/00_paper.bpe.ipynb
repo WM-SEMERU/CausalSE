{
 "cells": [
  {
   "cell_type": "markdown",
   "metadata": {},
   "source": [
    "# BPE Tutorial\n",
    "\n",
    "> This NB contains the code for training a BPE"
   ]
  },
  {
   "cell_type": "code",
   "execution_count": null,
   "metadata": {},
   "outputs": [],
   "source": [
    "import pandas as pd\n",
    "\n",
    "from icodegen.data.core import *\n",
    "from pathlib import Path\n",
    "from sklearn.model_selection import train_test_split"
   ]
  },
  {
   "cell_type": "code",
   "execution_count": null,
   "metadata": {},
   "outputs": [],
   "source": [
    "path = Path('../dvc-icodegen')\n",
    "df = pd.read_csv(path/'searchnet/[codesearchnet-java-1597073966.81902].csv', sep = '~', index_col = 0)\n",
    "df.head()"
   ]
  },
  {
   "cell_type": "code",
   "execution_count": null,
   "metadata": {},
   "outputs": [],
   "source": [
    "len(df)"
   ]
  },
  {
   "cell_type": "code",
   "execution_count": null,
   "metadata": {},
   "outputs": [],
   "source": [
    "df_trn = df[df.partition == 'train'].copy()\n",
    "df_val = df[df.partition == 'valid'].copy()\n",
    "df_tst = df[df.partition == 'test'].copy()\n",
    "print(len(df_trn))\n",
    "df_trn.head()"
   ]
  },
  {
   "cell_type": "code",
   "execution_count": null,
   "metadata": {},
   "outputs": [],
   "source": [
    "assert ((pd.concat([df_tst, df_trn, df_val]) == df).all()).all()"
   ]
  },
  {
   "cell_type": "code",
   "execution_count": null,
   "metadata": {},
   "outputs": [],
   "source": [
    "df_new_trn, df_bpe = train_test_split(df_trn, test_size = 0.1) # 10% selected to match the Maybe Deep Neural Networks are the Best Choice for Modeling Source Code paper"
   ]
  },
  {
   "cell_type": "code",
   "execution_count": null,
   "metadata": {},
   "outputs": [],
   "source": [
    "len(df_new_trn), len(df_bpe)"
   ]
  },
  {
   "cell_type": "code",
   "execution_count": null,
   "metadata": {},
   "outputs": [],
   "source": [
    "df_bpe.partition = ['bpe'] * len(df_bpe)"
   ]
  },
  {
   "cell_type": "code",
   "execution_count": null,
   "metadata": {},
   "outputs": [],
   "source": [
    "df_bpe.head()"
   ]
  },
  {
   "cell_type": "code",
   "execution_count": null,
   "metadata": {},
   "outputs": [],
   "source": [
    "df_new = pd.concat([df_new_trn, df_bpe, df_val, df_tst], ignore_index = True)\n",
    "df_new.head()"
   ]
  },
  {
   "cell_type": "code",
   "execution_count": null,
   "metadata": {},
   "outputs": [],
   "source": [
    "len(df_new[df_new.partition == 'train']), len(df_new[df_new.partition == 'bpe']), len(df_new[df_new.partition == 'valid']), len(df_new[df_new.partition == 'test'])"
   ]
  },
  {
   "cell_type": "code",
   "execution_count": null,
   "metadata": {},
   "outputs": [],
   "source": [
    "assert len(df_new) == len(df)"
   ]
  },
  {
   "cell_type": "code",
   "execution_count": null,
   "metadata": {},
   "outputs": [],
   "source": [
    "df_non_ascii = remove_non_ascii(df_new)\n",
    "df_replaced = replace_special_tokens(df_non_ascii, java_special_tokens)\n",
    "len(df_replaced[df_replaced.partition == 'train']), len(df_replaced[df_replaced.partition == 'bpe']), len(df_replaced[df_replaced.partition == 'valid']), len(df_replaced[df_replaced.partition == 'test'])"
   ]
  },
  {
   "cell_type": "code",
   "execution_count": null,
   "metadata": {},
   "outputs": [],
   "source": [
    "df_replaced.to_csv(path/'searchnet/[codesearchnet-java-1597073966.81902].csv', quoting = 1, sep = '~')\n",
    "df_replaced_new = pd.read_csv(path/'searchnet/[codesearchnet-java-1597073966.81902].csv', index_col = 0, quoting = 1, sep = '~')\n",
    "\n",
    "assert (df_replaced == df_replaced_new).all().all()"
   ]
  },
  {
   "cell_type": "code",
   "execution_count": 28,
   "metadata": {},
   "outputs": [
    {
     "output_type": "execute_result",
     "data": {
      "text/plain": [
       "10000"
      ]
     },
     "metadata": {},
     "execution_count": 28
    }
   ],
   "source": [
    "tokenizer = train_tokenizer(df_replaced[df_replaced.partition == 'bpe'], java_special_tokens)\n",
    "tokenizer.save(str(path/'bpe/tokenizer-java.json'))\n",
    "tokenizer.get_vocab_size()"
   ]
  },
  {
   "cell_type": "code",
   "execution_count": 33,
   "metadata": {},
   "outputs": [
    {
     "output_type": "execute_result",
     "data": {
      "text/plain": [
       "['Ġ', '<&&>', 'Ġ', '<{>', 'Ġ<']"
      ]
     },
     "metadata": {},
     "execution_count": 33
    }
   ],
   "source": [
    "from tokenizers import Tokenizer\n",
    "\n",
    "new_tokenizer = Tokenizer.from_file(str(path/'bpe/tokenizer-java.json'))\n",
    "new_tokenizer.encode(' <&&> <{><').tokens"
   ]
  },
  {
   "cell_type": "code",
   "execution_count": null,
   "metadata": {},
   "outputs": [],
   "source": [
    "new_tokenizer.get_vocab()"
   ]
  },
  {
   "cell_type": "code",
   "execution_count": null,
   "metadata": {},
   "outputs": [],
   "source": []
  }
 ],
 "metadata": {
  "kernelspec": {
   "display_name": "icodegen",
   "language": "python",
   "name": "icodegen"
  }
 },
 "nbformat": 4,
 "nbformat_minor": 4
}