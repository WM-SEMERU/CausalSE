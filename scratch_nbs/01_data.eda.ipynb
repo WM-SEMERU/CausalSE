{
 "cells": [
  {
   "cell_type": "code",
   "execution_count": null,
   "metadata": {},
   "outputs": [],
   "source": [
    "# default_exp data.eda"
   ]
  },
  {
   "cell_type": "code",
   "execution_count": null,
   "metadata": {},
   "outputs": [],
   "source": [
    "# hide\n",
    "%load_ext autoreload\n",
    "%autoreload 2\n",
    "%matplotlib inline"
   ]
  },
  {
   "cell_type": "code",
   "execution_count": null,
   "metadata": {},
   "outputs": [],
   "source": [
    "! pip install sentencepiece"
   ]
  },
  {
   "cell_type": "markdown",
   "metadata": {},
   "source": [
    "# Exploratory Data Analysis \n",
    ">\n",
    ">@danaderp 11.17.20 This is an exploratory data analysis for the codesearch net dataset. The goal of the exploration is to understand the code distribution of token information.\n",
    ">"
   ]
  },
  {
   "cell_type": "code",
   "execution_count": null,
   "metadata": {},
   "outputs": [],
   "source": [
    "import tensorflow as tf\n",
    "import numpy as np\n",
    "import pandas as pd\n",
    "import os\n",
    "import time"
   ]
  },
  {
   "cell_type": "code",
   "execution_count": null,
   "metadata": {},
   "outputs": [],
   "source": [
    "import matplotlib.pyplot as plt\n",
    "from scipy import stats"
   ]
  },
  {
   "cell_type": "code",
   "execution_count": null,
   "metadata": {},
   "outputs": [],
   "source": [
    "import functools\n",
    "from operator import or_\n",
    "from collections import Counter\n",
    "import datetime"
   ]
  },
  {
   "cell_type": "code",
   "execution_count": null,
   "metadata": {},
   "outputs": [],
   "source": [
    "import sentencepiece as spm"
   ]
  },
  {
   "cell_type": "code",
   "execution_count": null,
   "metadata": {},
   "outputs": [],
   "source": [
    "import pickle"
   ]
  },
  {
   "cell_type": "code",
   "execution_count": null,
   "metadata": {},
   "outputs": [],
   "source": [
    "# export\n",
    "import logging\n",
    "\n",
    "logging.basicConfig(\n",
    "    format=\"%(asctime)s : %(levelname)s : %(message)s\", level=logging.INFO\n",
    ")"
   ]
  },
  {
   "cell_type": "markdown",
   "metadata": {},
   "source": [
    "Fixing parameters"
   ]
  },
  {
   "cell_type": "code",
   "execution_count": null,
   "metadata": {},
   "outputs": [],
   "source": [
    "def params():\n",
    "    return {\n",
    "        \"dummy_path\": \"../dvc-icodegen/dummy/\",\n",
    "        \"hyper\": {\n",
    "            \"seq_length\": 100,\n",
    "            \"batch_size\": 64,\n",
    "            \"buffer_size\": 10000,\n",
    "            \"rnn_units\": 1024,\n",
    "            \"epochs\": 10,\n",
    "        },\n",
    "        \"checkpoint_dir\": \"../dvc-icodegen/models/\",\n",
    "        \"dataset\": \"../dvc-icodegen/searchnet/[codesearchnet-java-1597073966.81902].csv\",\n",
    "        \"bpe\": \"../dvc-icodegen/bpe/tokenizer-java\",\n",
    "        \"eda\": \"../dvc-icodegen/eda/\",\n",
    "    }"
   ]
  },
  {
   "cell_type": "code",
   "execution_count": null,
   "metadata": {},
   "outputs": [],
   "source": [
    "params = params()"
   ]
  },
  {
   "cell_type": "code",
   "execution_count": null,
   "metadata": {},
   "outputs": [
    {
     "name": "stderr",
     "output_type": "stream",
     "text": [
      "2020-11-17 16:06:10,751 : INFO : 100\n",
      "2020-11-17 16:06:10,752 : INFO : ../dvc-icodegen/searchnet/[codesearchnet-java-1597073966.81902].csv\n",
      "2020-11-17 16:06:10,753 : INFO : ../dvc-icodegen/eda/\n"
     ]
    }
   ],
   "source": [
    "# tst\n",
    "logging.info(params[\"hyper\"][\"seq_length\"])\n",
    "logging.info(params[\"dataset\"])\n",
    "logging.info(params[\"eda\"])"
   ]
  },
  {
   "cell_type": "markdown",
   "metadata": {},
   "source": [
    "# Loading Datasets"
   ]
  },
  {
   "cell_type": "code",
   "execution_count": null,
   "metadata": {},
   "outputs": [],
   "source": [
    "java_df = pd.read_csv(params[\"dataset\"], sep=\"~\")"
   ]
  },
  {
   "cell_type": "code",
   "execution_count": null,
   "metadata": {},
   "outputs": [
    {
     "data": {
      "text/html": [
       "<div>\n",
       "<style scoped>\n",
       "    .dataframe tbody tr th:only-of-type {\n",
       "        vertical-align: middle;\n",
       "    }\n",
       "\n",
       "    .dataframe tbody tr th {\n",
       "        vertical-align: top;\n",
       "    }\n",
       "\n",
       "    .dataframe thead th {\n",
       "        text-align: right;\n",
       "    }\n",
       "</style>\n",
       "<table border=\"1\" class=\"dataframe\">\n",
       "  <thead>\n",
       "    <tr style=\"text-align: right;\">\n",
       "      <th></th>\n",
       "      <th>repo</th>\n",
       "      <th>path</th>\n",
       "      <th>url</th>\n",
       "      <th>code</th>\n",
       "      <th>code_tokens</th>\n",
       "      <th>docstring</th>\n",
       "      <th>docstring_tokens</th>\n",
       "      <th>language</th>\n",
       "      <th>partition</th>\n",
       "      <th>bpe32k</th>\n",
       "      <th>code_len</th>\n",
       "      <th>bpe32_len</th>\n",
       "    </tr>\n",
       "  </thead>\n",
       "  <tbody>\n",
       "    <tr>\n",
       "      <th>0</th>\n",
       "      <td>apache/spark</td>\n",
       "      <td>sql/hive-thriftserver/src/main/java/org/apache...</td>\n",
       "      <td>https://github.com/apache/spark/blob/25ee0474f...</td>\n",
       "      <td>&lt;@&gt;Override&lt;n&gt;  &lt;public&gt; OperationHandle getSc...</td>\n",
       "      <td>['@', 'Override', 'public', 'OperationHandle',...</td>\n",
       "      <td>/* (non-Javadoc)\\n@see org.apache.hive.service...</td>\n",
       "      <td>['/', '*', '(', 'non', '-', 'Javadoc', ')']</td>\n",
       "      <td>java</td>\n",
       "      <td>train</td>\n",
       "      <td>['▁', '@', 'Override', '▁public', '▁Operation'...</td>\n",
       "      <td>31.0</td>\n",
       "      <td>43.0</td>\n",
       "    </tr>\n",
       "    <tr>\n",
       "      <th>1</th>\n",
       "      <td>BlueBrain/bluima</td>\n",
       "      <td>modules/bluima_typesystem/src/main/java/de/jul...</td>\n",
       "      <td>https://github.com/BlueBrain/bluima/blob/793ea...</td>\n",
       "      <td>&lt;public&gt; &lt;void&gt; setTextObjects&lt;(&gt;FSArray v&lt;)&gt; ...</td>\n",
       "      <td>['public', 'void', 'setTextObjects', '(', 'FSA...</td>\n",
       "      <td>setter for textObjects - sets the text objects...</td>\n",
       "      <td>['setter', 'for', 'textObjects', '-', 'sets', ...</td>\n",
       "      <td>java</td>\n",
       "      <td>train</td>\n",
       "      <td>['▁public', '▁void', '▁setText', 'Objects', '(...</td>\n",
       "      <td>64.0</td>\n",
       "      <td>92.0</td>\n",
       "    </tr>\n",
       "    <tr>\n",
       "      <th>2</th>\n",
       "      <td>aws/aws-sdk-java</td>\n",
       "      <td>aws-java-sdk-athena/src/main/java/com/amazonaw...</td>\n",
       "      <td>https://github.com/aws/aws-sdk-java/blob/aa385...</td>\n",
       "      <td>&lt;public&gt; &lt;void&gt; marshall&lt;(&gt;WorkGroup workGroup...</td>\n",
       "      <td>['public', 'void', 'marshall', '(', 'WorkGroup...</td>\n",
       "      <td>Marshall the given parameter object.</td>\n",
       "      <td>['Marshall', 'the', 'given', 'parameter', 'obj...</td>\n",
       "      <td>java</td>\n",
       "      <td>train</td>\n",
       "      <td>['▁public', '▁void', '▁marshall', '(', 'Work',...</td>\n",
       "      <td>117.0</td>\n",
       "      <td>140.0</td>\n",
       "    </tr>\n",
       "    <tr>\n",
       "      <th>3</th>\n",
       "      <td>softindex/datakernel</td>\n",
       "      <td>core-bytebuf/src/main/java/io/datakernel/byteb...</td>\n",
       "      <td>https://github.com/softindex/datakernel/blob/0...</td>\n",
       "      <td>&lt;public&gt; &lt;void&gt; put&lt;(&gt;&lt;@&gt;NotNull &lt;byte&gt;&lt;[&gt;&lt;]&gt; ...</td>\n",
       "      <td>['public', 'void', 'put', '(', '@', 'NotNull',...</td>\n",
       "      <td>Puts given byte array to the {@link ByteBuf} f...</td>\n",
       "      <td>['Puts', 'given', 'byte', 'array', 'to', 'the'...</td>\n",
       "      <td>java</td>\n",
       "      <td>train</td>\n",
       "      <td>['▁public', '▁void', '▁put', '(', '@', 'NotNul...</td>\n",
       "      <td>64.0</td>\n",
       "      <td>72.0</td>\n",
       "    </tr>\n",
       "    <tr>\n",
       "      <th>4</th>\n",
       "      <td>lunisolar/magma</td>\n",
       "      <td>magma-func-builder/src/main/java/eu/lunisolar/...</td>\n",
       "      <td>https://github.com/lunisolar/magma/blob/83809c...</td>\n",
       "      <td>&lt;@&gt;Non&lt;null&gt;&lt;n&gt;\\t&lt;public&gt; &lt;static&gt; &lt;lesser&gt;T&lt;g...</td>\n",
       "      <td>['@', 'Nonnull', 'public', 'static', '&lt;', 'T',...</td>\n",
       "      <td>One of ways of creating builder. This is possi...</td>\n",
       "      <td>['One', 'of', 'ways', 'of', 'creating', 'build...</td>\n",
       "      <td>java</td>\n",
       "      <td>train</td>\n",
       "      <td>['▁', '@', 'Nonnull', '▁public', '▁static', '▁...</td>\n",
       "      <td>46.0</td>\n",
       "      <td>52.0</td>\n",
       "    </tr>\n",
       "  </tbody>\n",
       "</table>\n",
       "</div>"
      ],
      "text/plain": [
       "                   repo                                               path  \\\n",
       "0          apache/spark  sql/hive-thriftserver/src/main/java/org/apache...   \n",
       "1      BlueBrain/bluima  modules/bluima_typesystem/src/main/java/de/jul...   \n",
       "2      aws/aws-sdk-java  aws-java-sdk-athena/src/main/java/com/amazonaw...   \n",
       "3  softindex/datakernel  core-bytebuf/src/main/java/io/datakernel/byteb...   \n",
       "4       lunisolar/magma  magma-func-builder/src/main/java/eu/lunisolar/...   \n",
       "\n",
       "                                                 url  \\\n",
       "0  https://github.com/apache/spark/blob/25ee0474f...   \n",
       "1  https://github.com/BlueBrain/bluima/blob/793ea...   \n",
       "2  https://github.com/aws/aws-sdk-java/blob/aa385...   \n",
       "3  https://github.com/softindex/datakernel/blob/0...   \n",
       "4  https://github.com/lunisolar/magma/blob/83809c...   \n",
       "\n",
       "                                                code  \\\n",
       "0  <@>Override<n>  <public> OperationHandle getSc...   \n",
       "1  <public> <void> setTextObjects<(>FSArray v<)> ...   \n",
       "2  <public> <void> marshall<(>WorkGroup workGroup...   \n",
       "3  <public> <void> put<(><@>NotNull <byte><[><]> ...   \n",
       "4  <@>Non<null><n>\\t<public> <static> <lesser>T<g...   \n",
       "\n",
       "                                         code_tokens  \\\n",
       "0  ['@', 'Override', 'public', 'OperationHandle',...   \n",
       "1  ['public', 'void', 'setTextObjects', '(', 'FSA...   \n",
       "2  ['public', 'void', 'marshall', '(', 'WorkGroup...   \n",
       "3  ['public', 'void', 'put', '(', '@', 'NotNull',...   \n",
       "4  ['@', 'Nonnull', 'public', 'static', '<', 'T',...   \n",
       "\n",
       "                                           docstring  \\\n",
       "0  /* (non-Javadoc)\\n@see org.apache.hive.service...   \n",
       "1  setter for textObjects - sets the text objects...   \n",
       "2               Marshall the given parameter object.   \n",
       "3  Puts given byte array to the {@link ByteBuf} f...   \n",
       "4  One of ways of creating builder. This is possi...   \n",
       "\n",
       "                                    docstring_tokens language partition  \\\n",
       "0        ['/', '*', '(', 'non', '-', 'Javadoc', ')']     java     train   \n",
       "1  ['setter', 'for', 'textObjects', '-', 'sets', ...     java     train   \n",
       "2  ['Marshall', 'the', 'given', 'parameter', 'obj...     java     train   \n",
       "3  ['Puts', 'given', 'byte', 'array', 'to', 'the'...     java     train   \n",
       "4  ['One', 'of', 'ways', 'of', 'creating', 'build...     java     train   \n",
       "\n",
       "                                              bpe32k  code_len  bpe32_len  \n",
       "0  ['▁', '@', 'Override', '▁public', '▁Operation'...      31.0       43.0  \n",
       "1  ['▁public', '▁void', '▁setText', 'Objects', '(...      64.0       92.0  \n",
       "2  ['▁public', '▁void', '▁marshall', '(', 'Work',...     117.0      140.0  \n",
       "3  ['▁public', '▁void', '▁put', '(', '@', 'NotNul...      64.0       72.0  \n",
       "4  ['▁', '@', 'Nonnull', '▁public', '▁static', '▁...      46.0       52.0  "
      ]
     },
     "execution_count": null,
     "metadata": {},
     "output_type": "execute_result"
    }
   ],
   "source": [
    "java_df.head()"
   ]
  },
  {
   "cell_type": "code",
   "execution_count": null,
   "metadata": {},
   "outputs": [],
   "source": [
    "# Partitions\n",
    "df_train = java_df[java_df[\"partition\"] == \"train\"]\n",
    "df_valid = java_df[java_df[\"partition\"] == \"valid\"]\n",
    "df_test = java_df[java_df[\"partition\"] == \"test\"]\n",
    "df_bpe = java_df[java_df[\"partition\"] == \"bpe\"]"
   ]
  },
  {
   "cell_type": "code",
   "execution_count": null,
   "metadata": {},
   "outputs": [],
   "source": [
    "list_all_partitions = [df_train, df_valid, df_test, df_bpe]"
   ]
  },
  {
   "cell_type": "code",
   "execution_count": null,
   "metadata": {},
   "outputs": [
    {
     "name": "stderr",
     "output_type": "stream",
     "text": [
      "2020-11-17 12:10:39,058 : INFO : Train Partition Size (384868, 12)\n",
      "2020-11-17 12:10:39,059 : INFO : Valid Partition Size (14605, 12)\n",
      "2020-11-17 12:10:39,060 : INFO : Test Partition Size (25011, 12)\n",
      "2020-11-17 12:10:39,062 : INFO : BPE Partition Size (42719, 12)\n"
     ]
    }
   ],
   "source": [
    "logging.info(\"Train Partition Size \" + str(df_train.shape))\n",
    "logging.info(\"Valid Partition Size \" + str(df_valid.shape))\n",
    "logging.info(\"Test Partition Size \" + str(df_test.shape))\n",
    "logging.info(\"BPE Partition Size \" + str(df_bpe.shape))"
   ]
  },
  {
   "cell_type": "code",
   "execution_count": null,
   "metadata": {},
   "outputs": [],
   "source": [
    "code_train = df_train.pop(\"code\")"
   ]
  },
  {
   "cell_type": "code",
   "execution_count": null,
   "metadata": {},
   "outputs": [
    {
     "data": {
      "text/plain": [
       "0    <@>Override<n>  <public> OperationHandle getSc...\n",
       "1    <public> <void> setTextObjects<(>FSArray v<)> ...\n",
       "2    <public> <void> marshall<(>WorkGroup workGroup...\n",
       "3    <public> <void> put<(><@>NotNull <byte><[><]> ...\n",
       "4    <@>Non<null><n>\\t<public> <static> <lesser>T<g...\n",
       "Name: code, dtype: object"
      ]
     },
     "execution_count": null,
     "metadata": {},
     "output_type": "execute_result"
    }
   ],
   "source": [
    "code_train.head()"
   ]
  },
  {
   "cell_type": "markdown",
   "metadata": {},
   "source": [
    "# Data Transformations "
   ]
  },
  {
   "cell_type": "code",
   "execution_count": null,
   "metadata": {},
   "outputs": [],
   "source": [
    "# Avg Number of Subwords\n",
    "count_subwords = [len(eval(mtd)) for mtd in df_train[\"code_tokens\"].values]"
   ]
  },
  {
   "cell_type": "code",
   "execution_count": null,
   "metadata": {},
   "outputs": [],
   "source": [
    "df_train[\"count_tokens\"] = count_subwords"
   ]
  },
  {
   "cell_type": "code",
   "execution_count": null,
   "metadata": {},
   "outputs": [],
   "source": [
    "# BPE"
   ]
  },
  {
   "cell_type": "markdown",
   "metadata": {},
   "source": [
    "# Descriptive Statistics"
   ]
  },
  {
   "cell_type": "markdown",
   "metadata": {},
   "source": [
    "All Java Set"
   ]
  },
  {
   "cell_type": "code",
   "execution_count": null,
   "metadata": {},
   "outputs": [
    {
     "data": {
      "text/html": [
       "<div>\n",
       "<style scoped>\n",
       "    .dataframe tbody tr th:only-of-type {\n",
       "        vertical-align: middle;\n",
       "    }\n",
       "\n",
       "    .dataframe tbody tr th {\n",
       "        vertical-align: top;\n",
       "    }\n",
       "\n",
       "    .dataframe thead th {\n",
       "        text-align: right;\n",
       "    }\n",
       "</style>\n",
       "<table border=\"1\" class=\"dataframe\">\n",
       "  <thead>\n",
       "    <tr style=\"text-align: right;\">\n",
       "      <th></th>\n",
       "      <th>code_len</th>\n",
       "      <th>bpe32_len</th>\n",
       "    </tr>\n",
       "  </thead>\n",
       "  <tbody>\n",
       "    <tr>\n",
       "      <th>count</th>\n",
       "      <td>467203.000000</td>\n",
       "      <td>467203.000000</td>\n",
       "    </tr>\n",
       "    <tr>\n",
       "      <th>mean</th>\n",
       "      <td>113.079653</td>\n",
       "      <td>146.274557</td>\n",
       "    </tr>\n",
       "    <tr>\n",
       "      <th>std</th>\n",
       "      <td>189.121245</td>\n",
       "      <td>303.804009</td>\n",
       "    </tr>\n",
       "    <tr>\n",
       "      <th>min</th>\n",
       "      <td>20.000000</td>\n",
       "      <td>20.000000</td>\n",
       "    </tr>\n",
       "    <tr>\n",
       "      <th>25%</th>\n",
       "      <td>42.000000</td>\n",
       "      <td>50.000000</td>\n",
       "    </tr>\n",
       "    <tr>\n",
       "      <th>50%</th>\n",
       "      <td>67.000000</td>\n",
       "      <td>81.000000</td>\n",
       "    </tr>\n",
       "    <tr>\n",
       "      <th>75%</th>\n",
       "      <td>122.000000</td>\n",
       "      <td>150.000000</td>\n",
       "    </tr>\n",
       "    <tr>\n",
       "      <th>max</th>\n",
       "      <td>27192.000000</td>\n",
       "      <td>52975.000000</td>\n",
       "    </tr>\n",
       "  </tbody>\n",
       "</table>\n",
       "</div>"
      ],
      "text/plain": [
       "            code_len      bpe32_len\n",
       "count  467203.000000  467203.000000\n",
       "mean      113.079653     146.274557\n",
       "std       189.121245     303.804009\n",
       "min        20.000000      20.000000\n",
       "25%        42.000000      50.000000\n",
       "50%        67.000000      81.000000\n",
       "75%       122.000000     150.000000\n",
       "max     27192.000000   52975.000000"
      ]
     },
     "execution_count": null,
     "metadata": {},
     "output_type": "execute_result"
    }
   ],
   "source": [
    "java_df.describe()"
   ]
  },
  {
   "cell_type": "markdown",
   "metadata": {},
   "source": [
    "All Java Partition"
   ]
  },
  {
   "cell_type": "code",
   "execution_count": null,
   "metadata": {},
   "outputs": [
    {
     "data": {
      "text/html": [
       "<div>\n",
       "<style scoped>\n",
       "    .dataframe tbody tr th:only-of-type {\n",
       "        vertical-align: middle;\n",
       "    }\n",
       "\n",
       "    .dataframe tbody tr th {\n",
       "        vertical-align: top;\n",
       "    }\n",
       "\n",
       "    .dataframe thead th {\n",
       "        text-align: right;\n",
       "    }\n",
       "</style>\n",
       "<table border=\"1\" class=\"dataframe\">\n",
       "  <thead>\n",
       "    <tr style=\"text-align: right;\">\n",
       "      <th></th>\n",
       "      <th>code_len</th>\n",
       "      <th>bpe32_len</th>\n",
       "    </tr>\n",
       "  </thead>\n",
       "  <tbody>\n",
       "    <tr>\n",
       "      <th>count</th>\n",
       "      <td>384868.000000</td>\n",
       "      <td>384868.000000</td>\n",
       "    </tr>\n",
       "    <tr>\n",
       "      <th>mean</th>\n",
       "      <td>113.720826</td>\n",
       "      <td>147.151002</td>\n",
       "    </tr>\n",
       "    <tr>\n",
       "      <th>std</th>\n",
       "      <td>194.007951</td>\n",
       "      <td>313.904001</td>\n",
       "    </tr>\n",
       "    <tr>\n",
       "      <th>min</th>\n",
       "      <td>20.000000</td>\n",
       "      <td>20.000000</td>\n",
       "    </tr>\n",
       "    <tr>\n",
       "      <th>25%</th>\n",
       "      <td>42.000000</td>\n",
       "      <td>50.000000</td>\n",
       "    </tr>\n",
       "    <tr>\n",
       "      <th>50%</th>\n",
       "      <td>67.000000</td>\n",
       "      <td>81.000000</td>\n",
       "    </tr>\n",
       "    <tr>\n",
       "      <th>75%</th>\n",
       "      <td>122.000000</td>\n",
       "      <td>151.000000</td>\n",
       "    </tr>\n",
       "    <tr>\n",
       "      <th>max</th>\n",
       "      <td>27192.000000</td>\n",
       "      <td>52975.000000</td>\n",
       "    </tr>\n",
       "  </tbody>\n",
       "</table>\n",
       "</div>"
      ],
      "text/plain": [
       "            code_len      bpe32_len\n",
       "count  384868.000000  384868.000000\n",
       "mean      113.720826     147.151002\n",
       "std       194.007951     313.904001\n",
       "min        20.000000      20.000000\n",
       "25%        42.000000      50.000000\n",
       "50%        67.000000      81.000000\n",
       "75%       122.000000     151.000000\n",
       "max     27192.000000   52975.000000"
      ]
     },
     "execution_count": null,
     "metadata": {},
     "output_type": "execute_result"
    }
   ],
   "source": [
    "df_train.describe()"
   ]
  },
  {
   "cell_type": "code",
   "execution_count": null,
   "metadata": {},
   "outputs": [
    {
     "name": "stderr",
     "output_type": "stream",
     "text": [
      "2020-11-17 12:31:54,629 : INFO : [            code_len      bpe32_len\n",
      "count  384868.000000  384868.000000\n",
      "mean      113.720826     147.151002\n",
      "std       194.007951     313.904001\n",
      "min        20.000000      20.000000\n",
      "25%        42.000000      50.000000\n",
      "50%        67.000000      81.000000\n",
      "75%       122.000000     151.000000\n",
      "max     27192.000000   52975.000000,            code_len     bpe32_len\n",
      "count  14605.000000  14605.000000\n",
      "mean      94.331736    120.097843\n",
      "std      115.802231    171.079255\n",
      "min       21.000000     21.000000\n",
      "25%       39.000000     46.000000\n",
      "50%       59.000000     71.000000\n",
      "75%      104.000000    127.000000\n",
      "max     3099.000000   5747.000000,            code_len     bpe32_len\n",
      "count  25011.000000  25011.000000\n",
      "mean     114.274599    148.204710\n",
      "std      166.432695    245.938732\n",
      "min       21.000000     22.000000\n",
      "25%       43.000000     52.000000\n",
      "50%       69.000000     84.000000\n",
      "75%      125.000000    155.000000\n",
      "max     5685.000000  10015.000000,            code_len     bpe32_len\n",
      "count  42719.000000  42719.000000\n",
      "mean     113.013156    146.197781\n",
      "std      176.473185    275.722996\n",
      "min       20.000000     21.000000\n",
      "25%       42.000000     50.000000\n",
      "50%       67.000000     82.000000\n",
      "75%      123.000000    151.000000\n",
      "max     8404.000000  15552.000000]\n"
     ]
    }
   ],
   "source": [
    "logging.info([p.describe() for p in list_all_partitions])"
   ]
  },
  {
   "cell_type": "code",
   "execution_count": null,
   "metadata": {},
   "outputs": [
    {
     "name": "stderr",
     "output_type": "stream",
     "text": [
      "2020-11-17 12:29:30,408 : INFO : [45.9606, 37.065, 47.4432, 44.477999999999994]\n"
     ]
    }
   ],
   "source": [
    "logging.info(\n",
    "    [stats.median_absolute_deviation(p[\"code_len\"].values) for p in list_all_partitions]\n",
    ")"
   ]
  },
  {
   "cell_type": "markdown",
   "metadata": {},
   "source": [
    "Train Partition"
   ]
  },
  {
   "cell_type": "code",
   "execution_count": null,
   "metadata": {},
   "outputs": [],
   "source": [
    "# Frequent Characters\n",
    "train_tokens = df_train.code_tokens.values"
   ]
  },
  {
   "cell_type": "code",
   "execution_count": null,
   "metadata": {},
   "outputs": [],
   "source": [
    "train_vocab_tokens = [\n",
    "    eval(method) for method in train_tokens\n",
    "]  # Evaluating given tokens"
   ]
  },
  {
   "cell_type": "code",
   "execution_count": null,
   "metadata": {},
   "outputs": [],
   "source": [
    "train_counter_tokens = [\n",
    "    Counter(method) for method in train_vocab_tokens\n",
    "]  # Counting the words"
   ]
  },
  {
   "cell_type": "code",
   "execution_count": null,
   "metadata": {},
   "outputs": [],
   "source": [
    "train_counter = functools.reduce(\n",
    "    lambda a, b: a + b, train_counter_tokens\n",
    ")  ## [Warning! Time Consuming]"
   ]
  },
  {
   "cell_type": "code",
   "execution_count": null,
   "metadata": {},
   "outputs": [
    {
     "ename": "NameError",
     "evalue": "name 'train_counter' is not defined",
     "output_type": "error",
     "traceback": [
      "\u001b[0;31m---------------------------------------------------------------------------\u001b[0m",
      "\u001b[0;31mNameError\u001b[0m                                 Traceback (most recent call last)",
      "\u001b[0;32m<ipython-input-1-fc0adc03a92e>\u001b[0m in \u001b[0;36m<module>\u001b[0;34m\u001b[0m\n\u001b[0;32m----> 1\u001b[0;31m \u001b[0mtrain_counter\u001b[0m\u001b[0;34m\u001b[0m\u001b[0;34m\u001b[0m\u001b[0m\n\u001b[0m",
      "\u001b[0;31mNameError\u001b[0m: name 'train_counter' is not defined"
     ]
    }
   ],
   "source": [
    "train_counter"
   ]
  },
  {
   "cell_type": "code",
   "execution_count": null,
   "metadata": {},
   "outputs": [],
   "source": [
    "# Persisting the counter object\n",
    "with open(\n",
    "    params[\"eda\"]\n",
    "    + \"[\"\n",
    "    + str(datetime.datetime.now())\n",
    "    + \"]-codesearchnet_token_counts.pickle\",\n",
    "    \"wb\",\n",
    ") as outputfile:\n",
    "    pickle.dump(train_counter, outputfile)"
   ]
  },
  {
   "cell_type": "code",
   "execution_count": null,
   "metadata": {},
   "outputs": [],
   "source": [
    "# hide\n",
    "from nbdev.export import notebook2script\n",
    "\n",
    "notebook2script()"
   ]
  }
 ],
 "metadata": {
  "kernelspec": {
   "display_name": "Python 3",
   "language": "python",
   "name": "python3"
  },
  "language_info": {
   "codemirror_mode": {
    "name": "ipython",
    "version": 3
   },
   "file_extension": ".py",
   "mimetype": "text/x-python",
   "name": "python",
   "nbconvert_exporter": "python",
   "pygments_lexer": "ipython3",
   "version": "3.7.8"
  }
 },
 "nbformat": 4,
 "nbformat_minor": 4
}
